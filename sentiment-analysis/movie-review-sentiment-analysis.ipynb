{
 "cells": [
  {
   "cell_type": "markdown",
   "id": "1ee32fe0",
   "metadata": {
    "papermill": {
     "duration": 0.023405,
     "end_time": "2021-09-03T18:55:31.850641",
     "exception": false,
     "start_time": "2021-09-03T18:55:31.827236",
     "status": "completed"
    },
    "tags": []
   },
   "source": [
    "# Import Libraries "
   ]
  },
  {
   "cell_type": "code",
   "execution_count": 1,
   "id": "e67ebb0e",
   "metadata": {
    "execution": {
     "iopub.execute_input": "2021-09-03T18:55:31.910415Z",
     "iopub.status.busy": "2021-09-03T18:55:31.905056Z",
     "iopub.status.idle": "2021-09-03T18:55:33.986228Z",
     "shell.execute_reply": "2021-09-03T18:55:33.985265Z",
     "shell.execute_reply.started": "2021-09-03T18:03:58.178320Z"
    },
    "papermill": {
     "duration": 2.112634,
     "end_time": "2021-09-03T18:55:33.986399",
     "exception": false,
     "start_time": "2021-09-03T18:55:31.873765",
     "status": "completed"
    },
    "tags": []
   },
   "outputs": [],
   "source": [
    "import numpy as np\n",
    "import pandas as pd\n",
    "import matplotlib.pyplot as plt\n",
    "\n",
    "import pickle\n",
    "import string\n",
    "string.punctuation\n",
    "from nltk.corpus import stopwords\n",
    "\n",
    "from sklearn.feature_extraction.text import CountVectorizer, TfidfVectorizer\n",
    "from sklearn.naive_bayes import MultinomialNB\n",
    "from sklearn.svm import LinearSVC\n",
    "from sklearn.metrics import classification_report, confusion_matrix, accuracy_score"
   ]
  },
  {
   "cell_type": "markdown",
   "id": "d5d04c50",
   "metadata": {
    "papermill": {
     "duration": 0.021761,
     "end_time": "2021-09-03T18:55:34.029927",
     "exception": false,
     "start_time": "2021-09-03T18:55:34.008166",
     "status": "completed"
    },
    "tags": []
   },
   "source": [
    "# Import Dataset"
   ]
  },
  {
   "cell_type": "code",
   "execution_count": 2,
   "id": "22e643fb",
   "metadata": {
    "execution": {
     "iopub.execute_input": "2021-09-03T18:55:34.079558Z",
     "iopub.status.busy": "2021-09-03T18:55:34.078768Z",
     "iopub.status.idle": "2021-09-03T18:55:35.501973Z",
     "shell.execute_reply": "2021-09-03T18:55:35.501379Z",
     "shell.execute_reply.started": "2021-09-03T18:04:00.377024Z"
    },
    "papermill": {
     "duration": 1.450107,
     "end_time": "2021-09-03T18:55:35.502165",
     "exception": false,
     "start_time": "2021-09-03T18:55:34.052058",
     "status": "completed"
    },
    "tags": []
   },
   "outputs": [],
   "source": [
    "train_df = pd.read_csv('./movie-review-dataset/train.csv')\n",
    "valid_df = pd.read_csv('./movie-review-dataset/valid.csv')\n",
    "test_df = pd.read_csv('./movie-review-dataset/test.csv')"
   ]
  },
  {
   "cell_type": "code",
   "execution_count": 3,
   "id": "91d4569d",
   "metadata": {
    "execution": {
     "iopub.execute_input": "2021-09-03T18:55:35.556103Z",
     "iopub.status.busy": "2021-09-03T18:55:35.555425Z",
     "iopub.status.idle": "2021-09-03T18:55:35.574154Z",
     "shell.execute_reply": "2021-09-03T18:55:35.574637Z",
     "shell.execute_reply.started": "2021-09-03T18:04:01.800532Z"
    },
    "papermill": {
     "duration": 0.050502,
     "end_time": "2021-09-03T18:55:35.574801",
     "exception": false,
     "start_time": "2021-09-03T18:55:35.524299",
     "status": "completed"
    },
    "tags": []
   },
   "outputs": [
    {
     "name": "stdout",
     "output_type": "stream",
     "text": [
      "(40000, 2)\n",
      "(5000, 2)\n",
      "(5000, 2)\n"
     ]
    }
   ],
   "source": [
    "print(train_df.shape)\n",
    "print(valid_df.shape)\n",
    "print(test_df.shape)"
   ]
  },
  {
   "cell_type": "code",
   "execution_count": 4,
   "id": "218f7ef6",
   "metadata": {
    "execution": {
     "iopub.execute_input": "2021-09-03T18:55:35.630294Z",
     "iopub.status.busy": "2021-09-03T18:55:35.629523Z",
     "iopub.status.idle": "2021-09-03T18:55:35.636422Z",
     "shell.execute_reply": "2021-09-03T18:55:35.636911Z",
     "shell.execute_reply.started": "2021-09-03T18:04:01.834750Z"
    },
    "papermill": {
     "duration": 0.039913,
     "end_time": "2021-09-03T18:55:35.637082",
     "exception": false,
     "start_time": "2021-09-03T18:55:35.597169",
     "status": "completed"
    },
    "tags": []
   },
   "outputs": [
    {
     "name": "stdout",
     "output_type": "stream",
     "text": [
      "text     0\n",
      "label    0\n",
      "dtype: int64\n",
      "text     0\n",
      "label    0\n",
      "dtype: int64\n",
      "text     0\n",
      "label    0\n",
      "dtype: int64\n"
     ]
    }
   ],
   "source": [
    "print(train_df.isnull().sum())\n",
    "print(valid_df.isnull().sum())\n",
    "print(test_df.isnull().sum())"
   ]
  },
  {
   "cell_type": "markdown",
   "id": "312da56d",
   "metadata": {},
   "source": [
    "# Analysis"
   ]
  },
  {
   "cell_type": "code",
   "execution_count": 5,
   "id": "3fc07c4c",
   "metadata": {},
   "outputs": [
    {
     "name": "stdout",
     "output_type": "stream",
     "text": [
      "0    20019\n",
      "1    19981\n",
      "Name: label, dtype: int64\n",
      "1    2514\n",
      "0    2486\n",
      "Name: label, dtype: int64\n"
     ]
    }
   ],
   "source": [
    "print(train_df.label.value_counts())\n",
    "print(valid_df.label.value_counts())"
   ]
  },
  {
   "cell_type": "code",
   "execution_count": 6,
   "id": "25112940",
   "metadata": {},
   "outputs": [],
   "source": [
    "X_train_val=pd.concat([train_df,valid_df])"
   ]
  },
  {
   "cell_type": "markdown",
   "id": "02addb0b",
   "metadata": {},
   "source": [
    "# Preprocessing"
   ]
  },
  {
   "cell_type": "code",
   "execution_count": 7,
   "id": "7fa91662",
   "metadata": {},
   "outputs": [],
   "source": [
    "from textblob import Word"
   ]
  },
  {
   "cell_type": "code",
   "execution_count": 8,
   "id": "8727abf5",
   "metadata": {
    "execution": {
     "iopub.execute_input": "2021-09-03T18:55:35.918895Z",
     "iopub.status.busy": "2021-09-03T18:55:35.918227Z",
     "iopub.status.idle": "2021-09-03T18:55:35.920328Z",
     "shell.execute_reply": "2021-09-03T18:55:35.920763Z",
     "shell.execute_reply.started": "2021-09-03T18:28:01.497090Z"
    },
    "papermill": {
     "duration": 0.03153,
     "end_time": "2021-09-03T18:55:35.920939",
     "exception": false,
     "start_time": "2021-09-03T18:55:35.889409",
     "status": "completed"
    },
    "tags": []
   },
   "outputs": [],
   "source": [
    "def text_cleaning(df):\n",
    "    df['text'] = df['text'].apply(lambda x: \" \".join(x.lower() for x in x.split()))\n",
    "    df['text'] = df['text'].str.replace('[^\\w\\s]','')  #punctuations\n",
    "    df['text'] = df['text'].str.replace('\\d','') #numbers\n",
    "    df['text'] = df['text'].apply(lambda x: \" \".join(x for x in x.split() if x not in stopwords.words('english')))\n",
    "    sil = pd.Series(' '.join(df['text']).split()).value_counts()[-1000:] #rare characters deleting\n",
    "    df['text'] = df['text'].apply(lambda x: \" \".join(x for x in x.split() if x not in sil))\n",
    "    df['text'] = df['text'].apply(lambda x: \" \".join([Word(word).lemmatize() for word in x.split()])) \n",
    "    return df"
   ]
  },
  {
   "cell_type": "code",
   "execution_count": 9,
   "id": "d4c458bd",
   "metadata": {},
   "outputs": [
    {
     "name": "stderr",
     "output_type": "stream",
     "text": [
      "<ipython-input-8-594ea3c7cf16>:3: FutureWarning: The default value of regex will change from True to False in a future version.\n",
      "  df['text'] = df['text'].str.replace('[^\\w\\s]','')  #punctuations\n",
      "<ipython-input-8-594ea3c7cf16>:4: FutureWarning: The default value of regex will change from True to False in a future version.\n",
      "  df['text'] = df['text'].str.replace('\\d','') #numbers\n"
     ]
    }
   ],
   "source": [
    "train_df=text_cleaning(train_df)\n",
    "train_df.head()"
   ]
  },
  {
   "cell_type": "code",
   "execution_count": null,
   "id": "b4fc0d73",
   "metadata": {},
   "outputs": [
    {
     "name": "stderr",
     "output_type": "stream",
     "text": [
      "<ipython-input-21-594ea3c7cf16>:3: FutureWarning: The default value of regex will change from True to False in a future version.\n",
      "  df['text'] = df['text'].str.replace('[^\\w\\s]','')  #punctuations\n",
      "<ipython-input-21-594ea3c7cf16>:4: FutureWarning: The default value of regex will change from True to False in a future version.\n",
      "  df['text'] = df['text'].str.replace('\\d','') #numbers\n"
     ]
    },
    {
     "name": "stdout",
     "output_type": "stream",
     "text": [
      "                                                text  label\n",
      "0  year since sharon stone awarded viewer legcros...      0\n",
      "1  someone needed make car payment truly awful ma...      0\n",
      "2  guideline state comment must contain minimum f...      0\n",
      "3  movie muddled mishmash clichés recent cinema p...      0\n",
      "4  stan laurel became smaller half alltime greate...      0\n"
     ]
    },
    {
     "name": "stderr",
     "output_type": "stream",
     "text": [
      "<ipython-input-21-594ea3c7cf16>:3: FutureWarning: The default value of regex will change from True to False in a future version.\n",
      "  df['text'] = df['text'].str.replace('[^\\w\\s]','')  #punctuations\n",
      "<ipython-input-21-594ea3c7cf16>:4: FutureWarning: The default value of regex will change from True to False in a future version.\n",
      "  df['text'] = df['text'].str.replace('\\d','') #numbers\n"
     ]
    },
    {
     "name": "stdout",
     "output_type": "stream",
     "text": [
      "                                                text  label\n",
      "0  always wrote series complete stinkfest jim bel...      0\n",
      "1  st watched dirsteve purcell typical mary kate ...      0\n",
      "2  movie poorly written directed fell asleep minu...      0\n",
      "3  interesting thing miryang secret sunshine acto...      1\n",
      "4  first read berlin meer didnt expect much thoug...      0\n"
     ]
    }
   ],
   "source": [
    "valid_df=text_cleaning(valid_df)\n",
    "print(valid_df.head())\n",
    "test_df=text_cleaning(test_df)\n",
    "print(test_df.head())"
   ]
  },
  {
   "cell_type": "code",
   "execution_count": null,
   "id": "fbd301de",
   "metadata": {
    "execution": {
     "iopub.execute_input": "2021-09-03T18:55:35.975285Z",
     "iopub.status.busy": "2021-09-03T18:55:35.974497Z",
     "iopub.status.idle": "2021-09-03T19:15:13.554753Z",
     "shell.execute_reply": "2021-09-03T19:15:13.553634Z",
     "shell.execute_reply.started": "2021-09-03T18:28:02.668454Z"
    },
    "papermill": {
     "duration": 1177.610139,
     "end_time": "2021-09-03T19:15:13.555075",
     "exception": false,
     "start_time": "2021-09-03T18:55:35.944936",
     "status": "completed"
    },
    "tags": []
   },
   "outputs": [],
   "source": [
    "train_x=train_df['text']\n",
    "train_y=train_df['label']\n",
    "\n",
    "valid_x=train_df['text']\n",
    "valid_y=train_df['label']"
   ]
  },
  {
   "cell_type": "code",
   "execution_count": null,
   "id": "a7e91732",
   "metadata": {
    "execution": {
     "iopub.execute_input": "2021-09-03T19:15:13.624519Z",
     "iopub.status.busy": "2021-09-03T19:15:13.623752Z",
     "iopub.status.idle": "2021-09-03T19:15:21.651787Z",
     "shell.execute_reply": "2021-09-03T19:15:21.651132Z",
     "shell.execute_reply.started": "2021-09-03T18:47:21.907957Z"
    },
    "papermill": {
     "duration": 8.070754,
     "end_time": "2021-09-03T19:15:21.651929",
     "exception": false,
     "start_time": "2021-09-03T19:15:13.581175",
     "status": "completed"
    },
    "tags": []
   },
   "outputs": [],
   "source": [
    "count_vect=CountVectorizer()\n",
    "count_vect.fit(train_x)"
   ]
  },
  {
   "cell_type": "code",
   "execution_count": null,
   "id": "6e95303a",
   "metadata": {},
   "outputs": [],
   "source": [
    "x_train_vect = tfidf_vect.transform(train_x)\n",
    "x_valid_vect = tfidf_vect.transform(valid_x)\n",
    "x_test_vect  = tfidf_vect.transform(test_df[\"text\"])"
   ]
  },
  {
   "cell_type": "code",
   "execution_count": 61,
   "id": "1f114056",
   "metadata": {},
   "outputs": [
    {
     "data": {
      "text/plain": [
       "<40000x144329 sparse matrix of type '<class 'numpy.int64'>'\n",
       "\twith 3902679 stored elements in Compressed Sparse Row format>"
      ]
     },
     "execution_count": 61,
     "metadata": {},
     "output_type": "execute_result"
    }
   ],
   "source": [
    "x_train_vect"
   ]
  },
  {
   "cell_type": "markdown",
   "id": "cda7b68b",
   "metadata": {
    "papermill": {
     "duration": 0.022882,
     "end_time": "2021-09-03T19:15:21.772438",
     "exception": false,
     "start_time": "2021-09-03T19:15:21.749556",
     "status": "completed"
    },
    "tags": []
   },
   "source": [
    "# MultinomialNB"
   ]
  },
  {
   "cell_type": "code",
   "execution_count": 95,
   "id": "1b599b2f",
   "metadata": {
    "execution": {
     "iopub.execute_input": "2021-09-03T19:15:21.824246Z",
     "iopub.status.busy": "2021-09-03T19:15:21.823302Z",
     "iopub.status.idle": "2021-09-03T19:15:21.869783Z",
     "shell.execute_reply": "2021-09-03T19:15:21.869114Z",
     "shell.execute_reply.started": "2021-09-03T18:48:32.498829Z"
    },
    "papermill": {
     "duration": 0.074377,
     "end_time": "2021-09-03T19:15:21.869922",
     "exception": false,
     "start_time": "2021-09-03T19:15:21.795545",
     "status": "completed"
    },
    "tags": []
   },
   "outputs": [
    {
     "data": {
      "text/plain": [
       "MultinomialNB()"
      ]
     },
     "execution_count": 95,
     "metadata": {},
     "output_type": "execute_result"
    }
   ],
   "source": [
    "mnb = MultinomialNB()\n",
    "mnb.fit(x_train_vect, train_y)"
   ]
  },
  {
   "cell_type": "code",
   "execution_count": 96,
   "id": "d8968cf0",
   "metadata": {
    "execution": {
     "iopub.execute_input": "2021-09-03T19:15:21.922952Z",
     "iopub.status.busy": "2021-09-03T19:15:21.921519Z",
     "iopub.status.idle": "2021-09-03T19:15:21.934637Z",
     "shell.execute_reply": "2021-09-03T19:15:21.933920Z",
     "shell.execute_reply.started": "2021-09-03T18:48:34.031077Z"
    },
    "papermill": {
     "duration": 0.040942,
     "end_time": "2021-09-03T19:15:21.934782",
     "exception": false,
     "start_time": "2021-09-03T19:15:21.893840",
     "status": "completed"
    },
    "tags": []
   },
   "outputs": [],
   "source": [
    "y_pred_MNB = mnb.predict(x_test_vect)"
   ]
  },
  {
   "cell_type": "code",
   "execution_count": 97,
   "id": "66c03292",
   "metadata": {
    "execution": {
     "iopub.execute_input": "2021-09-03T19:15:21.990037Z",
     "iopub.status.busy": "2021-09-03T19:15:21.988909Z",
     "iopub.status.idle": "2021-09-03T19:15:22.042533Z",
     "shell.execute_reply": "2021-09-03T19:15:22.043300Z",
     "shell.execute_reply.started": "2021-09-03T18:48:50.139361Z"
    },
    "papermill": {
     "duration": 0.084993,
     "end_time": "2021-09-03T19:15:22.043546",
     "exception": false,
     "start_time": "2021-09-03T19:15:21.958553",
     "status": "completed"
    },
    "tags": []
   },
   "outputs": [
    {
     "name": "stdout",
     "output_type": "stream",
     "text": [
      "Train Accuracy : 91.35%\n",
      "Test Accuracy : 86.74%\n"
     ]
    }
   ],
   "source": [
    "Acc_MNB = mnb.score(x_train_vect, train_y)\n",
    "acc_MNB = mnb.score(x_test_vect, test_y)\n",
    "print ('Train Accuracy : {:.2f}%'.format(Acc_MNB*100))\n",
    "print ('Test Accuracy : {:.2f}%'.format(acc_MNB*100))"
   ]
  },
  {
   "cell_type": "code",
   "execution_count": 98,
   "id": "daa2678a",
   "metadata": {
    "execution": {
     "iopub.execute_input": "2021-09-03T19:15:22.099454Z",
     "iopub.status.busy": "2021-09-03T19:15:22.098723Z",
     "iopub.status.idle": "2021-09-03T19:15:22.121023Z",
     "shell.execute_reply": "2021-09-03T19:15:22.121732Z",
     "shell.execute_reply.started": "2021-09-03T18:48:54.055712Z"
    },
    "papermill": {
     "duration": 0.052663,
     "end_time": "2021-09-03T19:15:22.121939",
     "exception": false,
     "start_time": "2021-09-03T19:15:22.069276",
     "status": "completed"
    },
    "tags": []
   },
   "outputs": [
    {
     "name": "stdout",
     "output_type": "stream",
     "text": [
      "              precision    recall  f1-score   support\n",
      "\n",
      "           0       0.86      0.88      0.87      2495\n",
      "           1       0.88      0.85      0.87      2505\n",
      "\n",
      "    accuracy                           0.87      5000\n",
      "   macro avg       0.87      0.87      0.87      5000\n",
      "weighted avg       0.87      0.87      0.87      5000\n",
      "\n"
     ]
    }
   ],
   "source": [
    "print(classification_report(test_y,y_pred_MNB))"
   ]
  },
  {
   "cell_type": "markdown",
   "id": "a8ededd9",
   "metadata": {
    "papermill": {
     "duration": 0.026534,
     "end_time": "2021-09-03T19:19:21.968467",
     "exception": false,
     "start_time": "2021-09-03T19:19:21.941933",
     "status": "completed"
    },
    "tags": []
   },
   "source": [
    "# Linear SVC"
   ]
  },
  {
   "cell_type": "code",
   "execution_count": 99,
   "id": "4b5991d7",
   "metadata": {
    "execution": {
     "iopub.execute_input": "2021-09-03T19:19:22.027735Z",
     "iopub.status.busy": "2021-09-03T19:19:22.027051Z",
     "iopub.status.idle": "2021-09-03T19:19:30.419259Z",
     "shell.execute_reply": "2021-09-03T19:19:30.419890Z",
     "shell.execute_reply.started": "2021-09-03T18:54:40.132364Z"
    },
    "papermill": {
     "duration": 8.425329,
     "end_time": "2021-09-03T19:19:30.420064",
     "exception": false,
     "start_time": "2021-09-03T19:19:21.994735",
     "status": "completed"
    },
    "tags": []
   },
   "outputs": [
    {
     "data": {
      "text/plain": [
       "LinearSVC()"
      ]
     },
     "execution_count": 99,
     "metadata": {},
     "output_type": "execute_result"
    }
   ],
   "source": [
    "Lsvc=LinearSVC()\n",
    "Lsvc.fit(x_train_vect, train_y)"
   ]
  },
  {
   "cell_type": "code",
   "execution_count": 100,
   "id": "b7e7f584",
   "metadata": {
    "execution": {
     "iopub.execute_input": "2021-09-03T19:19:30.476569Z",
     "iopub.status.busy": "2021-09-03T19:19:30.475571Z",
     "iopub.status.idle": "2021-09-03T19:19:30.508301Z",
     "shell.execute_reply": "2021-09-03T19:19:30.508820Z",
     "shell.execute_reply.started": "2021-09-03T18:54:48.852686Z"
    },
    "papermill": {
     "duration": 0.062238,
     "end_time": "2021-09-03T19:19:30.509009",
     "exception": false,
     "start_time": "2021-09-03T19:19:30.446771",
     "status": "completed"
    },
    "tags": []
   },
   "outputs": [
    {
     "name": "stdout",
     "output_type": "stream",
     "text": [
      "Train Accuracy : 98.95%\n",
      "Test Accuracy : 89.82%\n"
     ]
    }
   ],
   "source": [
    "Acc_Lsvc = Lsvc.score(x_train_vect, train_y)\n",
    "acc_Lsvc = Lsvc.score(x_test_vect, test_y)\n",
    "print ('Train Accuracy : {:.2f}%'.format(Acc_Lsvc*100))\n",
    "print ('Test Accuracy : {:.2f}%'.format(acc_Lsvc*100))"
   ]
  },
  {
   "cell_type": "code",
   "execution_count": 102,
   "id": "4fad15a3",
   "metadata": {
    "execution": {
     "iopub.execute_input": "2021-09-03T19:19:30.570952Z",
     "iopub.status.busy": "2021-09-03T19:19:30.569864Z",
     "iopub.status.idle": "2021-09-03T19:19:30.597750Z",
     "shell.execute_reply": "2021-09-03T19:19:30.598241Z",
     "shell.execute_reply.started": "2021-09-03T18:54:48.894191Z"
    },
    "papermill": {
     "duration": 0.062128,
     "end_time": "2021-09-03T19:19:30.598425",
     "exception": false,
     "start_time": "2021-09-03T19:19:30.536297",
     "status": "completed"
    },
    "tags": []
   },
   "outputs": [
    {
     "name": "stdout",
     "output_type": "stream",
     "text": [
      "              precision    recall  f1-score   support\n",
      "\n",
      "           0       0.91      0.89      0.90      2495\n",
      "           1       0.89      0.91      0.90      2505\n",
      "\n",
      "    accuracy                           0.90      5000\n",
      "   macro avg       0.90      0.90      0.90      5000\n",
      "weighted avg       0.90      0.90      0.90      5000\n",
      "\n"
     ]
    }
   ],
   "source": [
    "y_pred_Lsvc = Lsvc.predict(x_test_vect)\n",
    "print(classification_report(test_y, y_pred_Lsvc))"
   ]
  },
  {
   "cell_type": "markdown",
   "id": "ef2ac429",
   "metadata": {},
   "source": [
    "# Neural Network"
   ]
  },
  {
   "cell_type": "code",
   "execution_count": 29,
   "id": "da956bee",
   "metadata": {},
   "outputs": [
    {
     "name": "stdout",
     "output_type": "stream",
     "text": [
      "INFO:tensorflow:Enabling eager execution\n",
      "INFO:tensorflow:Enabling v2 tensorshape\n",
      "INFO:tensorflow:Enabling resource variables\n",
      "INFO:tensorflow:Enabling tensor equality\n",
      "INFO:tensorflow:Enabling control flow v2\n"
     ]
    }
   ],
   "source": [
    "from tensorflow.python.keras.models import Sequential\n",
    "from tensorflow.python.keras.layers import Dense, Embedding, GlobalAveragePooling1D, Dropout"
   ]
  },
  {
   "cell_type": "code",
   "execution_count": 30,
   "id": "7405c61b",
   "metadata": {},
   "outputs": [],
   "source": [
    "model = Sequential() \n",
    "#layers\n",
    "model.add(Dense(50,input_dim=x_train_count.shape[1], kernel_initializer=\"uniform\", activation=\"relu\")) \n",
    "#model.add(Dense(6, kernel_initializer=\"uniform\", activation=\"relu\")) \n",
    "model.add(Dense(1, kernel_initializer=\"uniform\", activation=\"sigmoid\")) \n",
    "model.compile(loss=\"binary_crossentropy\", optimizer=\"adam\", metrics=[\"accuracy\"])"
   ]
  },
  {
   "cell_type": "code",
   "execution_count": null,
   "id": "35a14a82",
   "metadata": {},
   "outputs": [],
   "source": [
    "model.summary()"
   ]
  },
  {
   "cell_type": "code",
   "execution_count": 32,
   "id": "baddef1b",
   "metadata": {},
   "outputs": [
    {
     "data": {
      "text/plain": [
       "(40000, 144329)"
      ]
     },
     "execution_count": 32,
     "metadata": {},
     "output_type": "execute_result"
    }
   ],
   "source": [
    "history = model.fit(x_train_count, train_y.values.reshape(-1,1), \n",
    "validation_data=(x_valid_count,valid_y), nb_epoch=2, batch_size=128)"
   ]
  },
  {
   "cell_type": "code",
   "execution_count": null,
   "id": "cd14129b",
   "metadata": {},
   "outputs": [],
   "source": [
    "loss, acc_NN = model.evaluate(x_test_vect, test_df[\"label\"], verbose=0)\n",
    "print('Test Accuracy: %f' % (acc_NN*100))"
   ]
  },
  {
   "cell_type": "markdown",
   "id": "ea00954a",
   "metadata": {
    "papermill": {
     "duration": 0.026042,
     "end_time": "2021-09-03T19:19:30.651050",
     "exception": false,
     "start_time": "2021-09-03T19:19:30.625008",
     "status": "completed"
    },
    "tags": []
   },
   "source": [
    "# Final Report"
   ]
  },
  {
   "cell_type": "code",
   "execution_count": 103,
   "id": "5f222e87",
   "metadata": {},
   "outputs": [
    {
     "data": {
      "text/html": [
       "<div>\n",
       "<style scoped>\n",
       "    .dataframe tbody tr th:only-of-type {\n",
       "        vertical-align: middle;\n",
       "    }\n",
       "\n",
       "    .dataframe tbody tr th {\n",
       "        vertical-align: top;\n",
       "    }\n",
       "\n",
       "    .dataframe thead th {\n",
       "        text-align: right;\n",
       "    }\n",
       "</style>\n",
       "<table border=\"1\" class=\"dataframe\">\n",
       "  <thead>\n",
       "    <tr style=\"text-align: right;\">\n",
       "      <th></th>\n",
       "      <th>Model</th>\n",
       "      <th>Accuracy</th>\n",
       "    </tr>\n",
       "  </thead>\n",
       "  <tbody>\n",
       "    <tr>\n",
       "      <th>0</th>\n",
       "      <td>MultinomialNB</td>\n",
       "      <td>0.8674</td>\n",
       "    </tr>\n",
       "    <tr>\n",
       "      <th>1</th>\n",
       "      <td>Linear SVC</td>\n",
       "      <td>0.8982</td>\n",
       "    </tr>\n",
       "  </tbody>\n",
       "</table>\n",
       "</div>"
      ],
      "text/plain": [
       "           Model  Accuracy\n",
       "0  MultinomialNB    0.8674\n",
       "1     Linear SVC    0.8982"
      ]
     },
     "execution_count": 103,
     "metadata": {},
     "output_type": "execute_result"
    }
   ],
   "source": [
    "output = pd.DataFrame({\"Model\":['MultinomialNB','Linear SVC','NN'],\n",
    "                      \"Accuracy\":[acc_MNB, acc_Lsvc,acc_NN]})\n",
    "output"
   ]
  },
  {
   "cell_type": "code",
   "execution_count": 82,
   "id": "4a319d3b",
   "metadata": {
    "execution": {
     "iopub.execute_input": "2021-09-03T19:19:30.717666Z",
     "iopub.status.busy": "2021-09-03T19:19:30.716603Z",
     "iopub.status.idle": "2021-09-03T19:19:30.719982Z",
     "shell.execute_reply": "2021-09-03T19:19:30.720528Z",
     "shell.execute_reply.started": "2021-09-03T18:54:48.924755Z"
    },
    "papermill": {
     "duration": 0.04313,
     "end_time": "2021-09-03T19:19:30.720695",
     "exception": false,
     "start_time": "2021-09-03T19:19:30.677565",
     "status": "completed"
    },
    "tags": []
   },
   "outputs": [
    {
     "data": {
      "text/html": [
       "<div>\n",
       "<style scoped>\n",
       "    .dataframe tbody tr th:only-of-type {\n",
       "        vertical-align: middle;\n",
       "    }\n",
       "\n",
       "    .dataframe tbody tr th {\n",
       "        vertical-align: top;\n",
       "    }\n",
       "\n",
       "    .dataframe thead th {\n",
       "        text-align: right;\n",
       "    }\n",
       "</style>\n",
       "<table border=\"1\" class=\"dataframe\">\n",
       "  <thead>\n",
       "    <tr style=\"text-align: right;\">\n",
       "      <th></th>\n",
       "      <th>Model</th>\n",
       "      <th>Accuracy</th>\n",
       "    </tr>\n",
       "  </thead>\n",
       "  <tbody>\n",
       "    <tr>\n",
       "      <th>0</th>\n",
       "      <td>MultinomialNB</td>\n",
       "      <td>0.8628</td>\n",
       "    </tr>\n",
       "    <tr>\n",
       "      <th>1</th>\n",
       "      <td>Linear SVC</td>\n",
       "      <td>0.8750</td>\n",
       "    </tr>\n",
       "  </tbody>\n",
       "</table>\n",
       "</div>"
      ],
      "text/plain": [
       "           Model  Accuracy\n",
       "0  MultinomialNB    0.8628\n",
       "1     Linear SVC    0.8750"
      ]
     },
     "execution_count": 82,
     "metadata": {},
     "output_type": "execute_result"
    }
   ],
   "source": [
    "output = pd.DataFrame({\"Model\":['MultinomialNB','Linear SVC'],\n",
    "                      \"Accuracy\":[acc_MNB, acc_Lsvc]})\n",
    "output"
   ]
  },
  {
   "cell_type": "markdown",
   "id": "69c82d5a",
   "metadata": {},
   "source": [
    "# Saving Model"
   ]
  },
  {
   "cell_type": "code",
   "execution_count": 73,
   "id": "f80a2a7c",
   "metadata": {},
   "outputs": [],
   "source": [
    "pickle.dump(data_vectorizer, open('transform.pkl', 'wb'))"
   ]
  },
  {
   "cell_type": "code",
   "execution_count": 85,
   "id": "778f9009",
   "metadata": {},
   "outputs": [],
   "source": [
    "pickle.dump(mnb, open('mnb.pkl', 'wb'))"
   ]
  },
  {
   "cell_type": "code",
   "execution_count": 84,
   "id": "577e19c8",
   "metadata": {
    "papermill": {
     "duration": 0.028298,
     "end_time": "2021-09-03T19:19:30.994539",
     "exception": false,
     "start_time": "2021-09-03T19:19:30.966241",
     "status": "completed"
    },
    "tags": []
   },
   "outputs": [],
   "source": [
    "pickle.dump(Lsvc, open('lsvc.pkl', 'wb'))"
   ]
  },
  {
   "cell_type": "markdown",
   "id": "ec0e0041",
   "metadata": {},
   "source": [
    "# Testing"
   ]
  },
  {
   "cell_type": "code",
   "execution_count": 86,
   "id": "bfe8b0c0",
   "metadata": {},
   "outputs": [],
   "source": [
    "mov_list=np.array([\"very bad bas dbad \"])"
   ]
  },
  {
   "cell_type": "code",
   "execution_count": 87,
   "id": "dfbdce9b",
   "metadata": {},
   "outputs": [],
   "source": [
    "vect=pickle.load(open('transform.pkl','rb'))"
   ]
  },
  {
   "cell_type": "code",
   "execution_count": 88,
   "id": "71a3a411",
   "metadata": {},
   "outputs": [
    {
     "data": {
      "text/plain": [
       "<1x144329 sparse matrix of type '<class 'numpy.float64'>'\n",
       "\twith 1 stored elements in Compressed Sparse Row format>"
      ]
     },
     "execution_count": 88,
     "metadata": {},
     "output_type": "execute_result"
    }
   ],
   "source": [
    "arr=vect.transform(mov_list)\n",
    "arr"
   ]
  },
  {
   "cell_type": "code",
   "execution_count": 89,
   "id": "e10e26a2",
   "metadata": {},
   "outputs": [],
   "source": [
    "clf=pickle.load(open('mnb.pkl', 'rb'))"
   ]
  },
  {
   "cell_type": "code",
   "execution_count": 90,
   "id": "625d1c83",
   "metadata": {},
   "outputs": [
    {
     "data": {
      "text/plain": [
       "array([0], dtype=int64)"
      ]
     },
     "execution_count": 90,
     "metadata": {},
     "output_type": "execute_result"
    }
   ],
   "source": [
    "clf.predict(arr)"
   ]
  },
  {
   "cell_type": "code",
   "execution_count": 91,
   "id": "e037a827",
   "metadata": {},
   "outputs": [],
   "source": [
    "lsvc=pickle.load(open('LSVC.pkl','rb'))"
   ]
  },
  {
   "cell_type": "code",
   "execution_count": 92,
   "id": "dbd676ba",
   "metadata": {},
   "outputs": [
    {
     "data": {
      "text/plain": [
       "array([0], dtype=int64)"
      ]
     },
     "execution_count": 92,
     "metadata": {},
     "output_type": "execute_result"
    }
   ],
   "source": [
    "lsvc.predict(arr)"
   ]
  },
  {
   "cell_type": "code",
   "execution_count": null,
   "id": "54f4cf94",
   "metadata": {},
   "outputs": [],
   "source": []
  }
 ],
 "metadata": {
  "interpreter": {
   "hash": "a7eaba816d73e4f1a87e1d923e2352d4d0b575e232100cf2dfbc536c2e8048b9"
  },
  "kernelspec": {
   "display_name": "Python 3.9.1 64-bit",
   "language": "python",
   "name": "python3"
  },
  "language_info": {
   "codemirror_mode": {
    "name": "ipython",
    "version": 3
   },
   "file_extension": ".py",
   "mimetype": "text/x-python",
   "name": "python",
   "nbconvert_exporter": "python",
   "pygments_lexer": "ipython3",
   "version": "3.9.1"
  },
  "papermill": {
   "default_parameters": {},
   "duration": 1449.374815,
   "end_time": "2021-09-03T19:19:32.698591",
   "environment_variables": {},
   "exception": null,
   "input_path": "__notebook__.ipynb",
   "output_path": "__notebook__.ipynb",
   "parameters": {},
   "start_time": "2021-09-03T18:55:23.323776",
   "version": "2.3.3"
  }
 },
 "nbformat": 4,
 "nbformat_minor": 5
}
